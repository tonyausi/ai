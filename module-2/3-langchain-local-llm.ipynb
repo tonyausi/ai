{
 "cells": [
  {
   "cell_type": "code",
   "execution_count": 1,
   "metadata": {},
   "outputs": [
    {
     "name": "stdout",
     "output_type": "stream",
     "text": [
      "Python 3.12.2\n"
     ]
    }
   ],
   "source": [
    "! python --version"
   ]
  },
  {
   "cell_type": "code",
   "execution_count": 9,
   "metadata": {},
   "outputs": [],
   "source": [
    "%%capture\n",
    "%pip install --upgrade --quiet  langchain-core langchain-community langchain-openai"
   ]
  },
  {
   "cell_type": "code",
   "execution_count": 10,
   "metadata": {},
   "outputs": [
    {
     "data": {
      "text/plain": [
       "' There are several theories that attempt to explain the shape of the supply and demand curves. Some of these theories include:\\n1. **Perfect Competition Theory**: This theory assumes that there are many buyers and sellers in a market, each with perfect information about prices and costs. In this case, the supply and demand curves will intersect at a single point, resulting in a unique equilibrium price.\\n2. **Monopoly Theory**: This theory assumes that there is only one seller in a market, giving them significant power to influence prices. In this case, the supply curve may be upward-sloping, as the monopolist can increase prices and reduce output to maximize profits.\\n3. **Monopsony Theory**: This theory assumes that there is only one buyer in a market, giving them significant power to influence wages or prices. In this case, the demand curve may be downward-sloping, as the monopsonist can reduce wages or prices to minimize costs.\\n4. **Imperfect Competition Theory**: This theory assumes that there are many buyers and sellers in a market, but each has imperfect information about prices and costs. In this case, the supply and demand curves may not intersect at a single point, resulting in multiple equilibrium prices.\\n5. **Information Asymmetry'"
      ]
     },
     "execution_count": 10,
     "metadata": {},
     "output_type": "execute_result"
    }
   ],
   "source": [
    "from langchain_openai import OpenAI\n",
    "# Point to the local server\n",
    "client = OpenAI(base_url=\"http://localhost:1234/v1\",\n",
    "                model=\"lmstudio-community/Meta-Llama-3.1-8B-Instruct-GGUF\",\n",
    "                temperature=0,\n",
    "                api_key=\"lm-studio\")\n",
    "\n",
    "client.invoke(\n",
    "    \"What are some theories about the supply and demand curve?\"\n",
    ")"
   ]
  },
  {
   "cell_type": "code",
   "execution_count": 17,
   "metadata": {},
   "outputs": [
    {
     "data": {
      "text/plain": [
       "\"I'm a system quite fine,\\nA language model that's truly divine.\\nI'm here to assist and respond with flair,\\nIn rhymes, of course, without a single care.\\n\\nMy name is LLaMA, I'm here to say,\\nI'll help you with questions in a most delightful way.\\nSo ask me your queries, big or small,\\nAnd I'll answer them all, standing tall!\""
      ]
     },
     "execution_count": 17,
     "metadata": {},
     "output_type": "execute_result"
    }
   ],
   "source": [
    "from langchain_core.prompts import ChatPromptTemplate\n",
    "from langchain_core.output_parsers import StrOutputParser\n",
    "from langchain_openai import ChatOpenAI\n",
    "\n",
    "model = ChatOpenAI(base_url=\"http://localhost:1234/v1\",\n",
    "                   model=\"lmstudio-community/Meta-Llama-3.1-8B-Instruct-GGUF\",\n",
    "                   temperature=0,\n",
    "                   api_key=\"lm-studio\")\n",
    "template = ChatPromptTemplate.from_messages(\n",
    "    [(\"system\", \"Always answer in rhymes.\"), (\"human\", \"{question}\")]\n",
    ").with_config({\"run_name\": \"my_template\", \"tags\": [\"my_template\"]})\n",
    "chain = template | model.with_config(run_name=\"my_llm\") | StrOutputParser()\n",
    "chain.invoke(\"Introduce yourself.\")"
   ]
  }
 ],
 "metadata": {
  "kernelspec": {
   "display_name": ".venv",
   "language": "python",
   "name": "python3"
  },
  "language_info": {
   "codemirror_mode": {
    "name": "ipython",
    "version": 3
   },
   "file_extension": ".py",
   "mimetype": "text/x-python",
   "name": "python",
   "nbconvert_exporter": "python",
   "pygments_lexer": "ipython3",
   "version": "3.12.2"
  }
 },
 "nbformat": 4,
 "nbformat_minor": 2
}
